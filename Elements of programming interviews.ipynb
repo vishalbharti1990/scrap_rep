{
 "cells": [
  {
   "cell_type": "markdown",
   "metadata": {},
   "source": [
    "### ELEMENTS OF PROGRAMMING INTERVIEWS"
   ]
  },
  {
   "cell_type": "markdown",
   "metadata": {},
   "source": [
    "#### P1. Dutch Flag problem"
   ]
  },
  {
   "cell_type": "code",
   "execution_count": 1,
   "metadata": {},
   "outputs": [],
   "source": [
    "# O(n) time and O(1) space\n",
    "def dutch_flag(pivot_index, arr):\n",
    "    smaller = 0\n",
    "    pivot = arr[pivot_index]\n",
    "    # first pass to move elements less than pivot to left\n",
    "    for i in range(len(arr)):\n",
    "        if arr[i] < pivot:\n",
    "            arr[i], arr[smaller] = arr[smaller], arr[i]\n",
    "            smaller += 1\n",
    "    \n",
    "    larger = len(arr) - 1\n",
    "    \n",
    "    # second pass to move larger elements to right\n",
    "    for i in reversed(range(len(arr))):\n",
    "        if arr[i] < pivot:\n",
    "            break\n",
    "        if arr[i] > pivot:\n",
    "            arr[i], arr[larger] = arr[larger], arr[i]\n",
    "            larger -= 1"
   ]
  },
  {
   "cell_type": "code",
   "execution_count": 2,
   "metadata": {},
   "outputs": [],
   "source": [
    "def dutch_flag_improved(pivot_ind, A):\n",
    "    pivot = A[pivot_ind]\n",
    "    \n",
    "    smaller, equal, larger = 0, 0, len(A)-1\n",
    "    \n",
    "    while equal < larger:\n",
    "        if A[equal] == pivot:\n",
    "            equal += 1\n",
    "        elif A[equal] < pivot:\n",
    "            A[smaller], A[equal] = A[equal], A[smaller]\n",
    "            smaller += 1\n",
    "            equal += 1\n",
    "        else:\n",
    "            A[equal], A[larger] = A[larger], A[equal]\n",
    "            larger -= 1"
   ]
  },
  {
   "cell_type": "code",
   "execution_count": 3,
   "metadata": {},
   "outputs": [
    {
     "data": {
      "text/plain": [
       "[3, 2, 1, 3, 4, 5, 8, 6, 6, 7]"
      ]
     },
     "execution_count": 3,
     "metadata": {},
     "output_type": "execute_result"
    }
   ],
   "source": [
    "A = [7,3,2,6,8,5,3,1,4,6]\n",
    "\n",
    "dutch_flag_improved(8, A)\n",
    "A"
   ]
  },
  {
   "cell_type": "markdown",
   "metadata": {},
   "source": [
    "**Variants**"
   ]
  },
  {
   "cell_type": "code",
   "execution_count": 4,
   "metadata": {},
   "outputs": [],
   "source": [
    "# elements of A can take three possible values\n",
    "# group them by the value they take\n",
    "def dutch_flag_3v(A):\n",
    "    val_one = A[0]\n",
    "    \n",
    "    ind = 0\n",
    "    \n",
    "    for i in range(len(A)):\n",
    "        if A[i] == val_one:\n",
    "            A[i], A[ind] = A[ind], A[i]\n",
    "            ind += 1\n",
    "    \n",
    "    val_two = A[ind]\n",
    "    \n",
    "    for i in range(len(A)):\n",
    "        if A[i] == val_two:\n",
    "            A[i], A[ind] = A[ind], A[i]\n",
    "            ind += 1"
   ]
  },
  {
   "cell_type": "code",
   "execution_count": 5,
   "metadata": {},
   "outputs": [
    {
     "data": {
      "text/plain": [
       "[3, 3, 3, 3, 3, 3, 2, 2, 2, 2, 2, 2, 1, 1, 1, 1, 1, 1, 1, 1]"
      ]
     },
     "execution_count": 5,
     "metadata": {},
     "output_type": "execute_result"
    }
   ],
   "source": [
    "A = [3,1,2,1,3,1,2,3,1,1,2,3,1,1,2,3,3,2,1,2]\n",
    "dutch_flag_3v(A)\n",
    "A"
   ]
  },
  {
   "cell_type": "code",
   "execution_count": 6,
   "metadata": {},
   "outputs": [],
   "source": [
    "# elements of A can take four possible values\n",
    "# group them by the value they take\n",
    "def dutch_flag_4v(A):\n",
    "    \n",
    "    val_one = A[0]\n",
    "    \n",
    "    ind = 0\n",
    "    \n",
    "    for i in range(len(A)):\n",
    "        if A[i] == val_one:\n",
    "            A[i], A[ind] = A[ind], A[i]\n",
    "            ind += 1\n",
    "    \n",
    "    val_two = A[ind]\n",
    "    \n",
    "    for i in range(len(A)):\n",
    "        if A[i] == val_two:\n",
    "            A[i], A[ind] = A[ind], A[i]\n",
    "            ind += 1\n",
    "\n",
    "    \n",
    "    val_three = A[ind]\n",
    "    \n",
    "    for i in range(len(A)):\n",
    "        if A[i] == val_three:\n",
    "            A[i], A[ind] = A[ind], A[i]\n",
    "            ind += 1"
   ]
  },
  {
   "cell_type": "code",
   "execution_count": 7,
   "metadata": {},
   "outputs": [
    {
     "data": {
      "text/plain": [
       "[4, 4, 4, 4, 4, 4, 3, 3, 3, 3, 3, 3, 1, 1, 1, 1, 1, 1, 1, 1, 2, 2, 2, 2, 2, 2]"
      ]
     },
     "execution_count": 7,
     "metadata": {},
     "output_type": "execute_result"
    }
   ],
   "source": [
    "A = [4,3,1,2,1,4,3,1,2,3,1,1,4,4,2,3,1,1,2,3,3,4,2,1,4,2]\n",
    "dutch_flag_4v(A)\n",
    "A"
   ]
  },
  {
   "cell_type": "markdown",
   "metadata": {},
   "source": [
    "#### P2: Add one to an array of digits representing a number. So an for an input array \\[1,2,3\\], the output should be \\[1,2,4\\] "
   ]
  },
  {
   "cell_type": "code",
   "execution_count": 29,
   "metadata": {},
   "outputs": [],
   "source": [
    "def add_one(arr):\n",
    "    \n",
    "    arr[-1] += 1\n",
    "    \n",
    "    ### IMPORTANT: WHEN LOOPING THE ARRAY IN REVERSE AND WE ARE UPDATING i-1 the ELEMENT\n",
    "    ### LOOP FROM N-1 to 1 ONLY!! NOT 0, AS WE MODIFY THE LAST ELEMENT \n",
    "    for i in reversed(range(1,len(arr))):\n",
    "        if arr[i] >= 10:\n",
    "            arr[i-1] += 1\n",
    "            arr[i] = 0\n",
    "    \n",
    "    if arr[0] >= 10:\n",
    "        arr[0] = 1\n",
    "        arr.append(0)"
   ]
  },
  {
   "cell_type": "code",
   "execution_count": 28,
   "metadata": {},
   "outputs": [
    {
     "data": {
      "text/plain": [
       "[1, 0, 0, 0, 0, 0]"
      ]
     },
     "execution_count": 28,
     "metadata": {},
     "output_type": "execute_result"
    }
   ],
   "source": [
    "arr = [9,9,9,9,9]\n",
    "add_one(arr)\n",
    "arr"
   ]
  },
  {
   "cell_type": "markdown",
   "metadata": {},
   "source": [
    "**VARIANT 1: Add a single digit number**"
   ]
  },
  {
   "cell_type": "code",
   "execution_count": 52,
   "metadata": {},
   "outputs": [],
   "source": [
    "### ADD ANY SINGLE DIGIT NUMBER TO ARRAY\n",
    "def add_x(arr, x):\n",
    "    \n",
    "    if x > 9:\n",
    "        print(\"Error: x should be a single digit number!\")\n",
    "        return\n",
    "    \n",
    "    arr[-1] += x\n",
    "    \n",
    "    for i in reversed(range(1,len(arr))):\n",
    "        if arr[i] >= 10:\n",
    "            arr[i] = arr[i] % 10\n",
    "            arr[i-1] += 1\n",
    "    \n",
    "    # reverse complexity is O(n), so overall complexity is stil O(n)\n",
    "    if arr[0] == 10:\n",
    "        arr.reverse()\n",
    "        arr.append(1)\n",
    "        arr[-2] = arr[-2] % 10\n",
    "        arr[-1] = 1\n",
    "        arr.reverse()\n",
    "        \n",
    "    print(arr)"
   ]
  },
  {
   "cell_type": "code",
   "execution_count": 54,
   "metadata": {},
   "outputs": [
    {
     "name": "stdout",
     "output_type": "stream",
     "text": [
      "Error: x should be a single digit number!\n"
     ]
    }
   ],
   "source": [
    "arr = [9,9,9,9,9,9]\n",
    "add_x(arr, 10)"
   ]
  },
  {
   "cell_type": "markdown",
   "metadata": {},
   "source": [
    "**VARIANT 2: Add two arrays representing numbers**"
   ]
  },
  {
   "cell_type": "code",
   "execution_count": 110,
   "metadata": {},
   "outputs": [],
   "source": [
    "# Using intermediate array\n",
    "def add_two_arrays(A, B):\n",
    "    n, m = len(A), len(B)\n",
    "    \n",
    "    res_arr = [0] * (max(n, m)+1)\n",
    "    \n",
    "    min_len = min(n, m)\n",
    "    \n",
    "    for i in range(1,min_len+1):\n",
    "        res_arr[-i] = A[-i] + B[-i]\n",
    "    \n",
    "#     print(res_arr)\n",
    "    \n",
    "    if n > m:\n",
    "        res_arr[1:-min_len] = A[0:-min_len]\n",
    "    elif m > n:\n",
    "        res_arr[1:-min_len] = B[0:-min_len]\n",
    "    \n",
    "#     print(res_arr)\n",
    "    \n",
    "    for i in reversed(range(len(res_arr))):\n",
    "        if res_arr[i] >= 10:\n",
    "            res_arr[i] %= 10\n",
    "            res_arr[i-1] += 1\n",
    "    \n",
    "    if res_arr[1] >= 10:\n",
    "        res_arr[0] = 1\n",
    "        res_arr[1] %= 10\n",
    "    \n",
    "    if res_arr[0] == 0:\n",
    "        return res_arr[1:]\n",
    "    else:\n",
    "        return res_arr "
   ]
  },
  {
   "cell_type": "code",
   "execution_count": 111,
   "metadata": {},
   "outputs": [
    {
     "data": {
      "text/plain": [
       "[1, 0, 9, 9, 9, 9, 9, 8]"
      ]
     },
     "execution_count": 111,
     "metadata": {},
     "output_type": "execute_result"
    }
   ],
   "source": [
    "A = [9,9,9,9,9,9]\n",
    "B = [9,9,9,9,9,9,9]\n",
    "\n",
    "add_two_arrays(A,B)"
   ]
  },
  {
   "cell_type": "code",
   "execution_count": 126,
   "metadata": {},
   "outputs": [],
   "source": [
    "# Without using intermediate array\n",
    "def add_two_arrays_in_place(A, B):\n",
    "    n, m = len(A), len(B)\n",
    "    \n",
    "    min_len = min(len(A),len(B))\n",
    "    \n",
    "    if n>m:\n",
    "        for i in range(1,min_len+1):\n",
    "            A[-i] += B[-i]\n",
    "    else:\n",
    "        for i in range(1,min_len+1):\n",
    "            B[-i] += A[-i]\n",
    "        A = B\n",
    "    \n",
    "    # As length of A might change in else condition\n",
    "    n = len(A)\n",
    "    \n",
    "    for i in reversed(range(1,n)):\n",
    "        if A[i] >= 10:\n",
    "            A[i]   %= 10\n",
    "            A[i-1] += 1\n",
    "    \n",
    "    if A[0] >= 10:\n",
    "        A[0] %= 10\n",
    "        A.reverse()\n",
    "        A.append(1)\n",
    "        A.reverse()\n",
    "    \n",
    "    return A"
   ]
  },
  {
   "cell_type": "code",
   "execution_count": 127,
   "metadata": {},
   "outputs": [
    {
     "data": {
      "text/plain": [
       "[1, 0, 9, 9, 9, 9, 9, 8]"
      ]
     },
     "execution_count": 127,
     "metadata": {},
     "output_type": "execute_result"
    }
   ],
   "source": [
    "A = [9,9,9,9,9,9]\n",
    "B = [9,9,9,9,9,9,9]\n",
    "\n",
    "add_two_arrays_in_place(A,B)"
   ]
  },
  {
   "cell_type": "code",
   "execution_count": 138,
   "metadata": {},
   "outputs": [],
   "source": [
    "# O(mn) time O(m+n) space\n",
    "def muliply_two_arrays(A,B):\n",
    "    \n",
    "    if A[0] < 0 or B[0] < 0:\n",
    "        sign = -1\n",
    "        A[0] = abs(A[0])\n",
    "        B[0] = abs(B[0])\n",
    "    \n",
    "    prod_arr = [0] * (len(A)+len(B))\n",
    "    \n",
    "    n, m = len(A), len(B)\n",
    "    \n",
    "    step = 1\n",
    "    \n",
    "    for i in reversed(range(n)):\n",
    "        for j in reversed(range(m)):\n",
    "            prod_arr[i+j+1] += A[i] * B[j]\n",
    "    \n",
    "    for i in reversed(range(1,len(prod_arr))):\n",
    "        if prod_arr[i] >= 10:\n",
    "            prod_arr[i-1] += prod_arr[i] // 10\n",
    "            prod_arr[i] %= 10\n",
    "    \n",
    "    # remove leading zeros\n",
    "    # The expression \"next((i for i,x in enumerate(prod_arr) if prod_arr[i] != 0)\"\n",
    "    # returns the first index in prod_arr where the condition x != 0 is true\n",
    "    # where x is the element of prod_arr. If all values are zero, we get an empty\n",
    "    # array, an empty array is False in python so [0] is returned\n",
    "    prod_arr = prod_arr[next((i for i,x in enumerate(prod_arr) if x != 0), len(prod_arr)):] or [0]\n",
    "    \n",
    "    return prod_arr\n",
    "    "
   ]
  },
  {
   "cell_type": "code",
   "execution_count": 143,
   "metadata": {},
   "outputs": [
    {
     "data": {
      "text/plain": [
       "[1, 2, 3, 5, 7, 9, 4, 5, 6]"
      ]
     },
     "execution_count": 143,
     "metadata": {},
     "output_type": "execute_result"
    }
   ],
   "source": [
    "A = [1,2,3,4,5,6]\n",
    "B = [1,0,0,1]\n",
    "\n",
    "muliply_two_arrays(A, B)"
   ]
  },
  {
   "cell_type": "markdown",
   "metadata": {},
   "source": [
    "#### P3: Remove duplicates from sorted array"
   ]
  },
  {
   "cell_type": "code",
   "execution_count": 3,
   "metadata": {},
   "outputs": [],
   "source": [
    "# Easy to understand when using a separate array\n",
    "# with the position pointer. The approach is\n",
    "# similar but instead of using an entire array we\n",
    "# are just using a pointer and replacing values\n",
    "# in place in the original array\n",
    "def remove_duplicates(arr):\n",
    "    # We start at 1 as we need something to compare to\n",
    "    unique_id = 1\n",
    "    \n",
    "    # If we use a separate array we would copy \n",
    "    # the first element and then do a similar loop\n",
    "    for i in range(1, len(arr)):\n",
    "        \n",
    "        if arr[unique_id - 1] == arr[i]:\n",
    "            continue\n",
    "        else:\n",
    "            arr[unique_id] = arr[i]\n",
    "            unique_id += 1\n",
    "            \n",
    "    return unique_id"
   ]
  },
  {
   "cell_type": "code",
   "execution_count": 4,
   "metadata": {},
   "outputs": [
    {
     "data": {
      "text/plain": [
       "6"
      ]
     },
     "execution_count": 4,
     "metadata": {},
     "output_type": "execute_result"
    }
   ],
   "source": [
    "remove_duplicates([1,1,1,2,2,2,5,5,7,7,7,8,9,9,9,9])"
   ]
  },
  {
   "cell_type": "markdown",
   "metadata": {},
   "source": [
    "**Variants 1: Remove all occurrences of a certain element x from a sorted array arr**"
   ]
  },
  {
   "cell_type": "code",
   "execution_count": 11,
   "metadata": {},
   "outputs": [],
   "source": [
    "def remove_all_x(arr, x):\n",
    "    w_ind = 0\n",
    "    \n",
    "    for i in range(len(arr)):\n",
    "        if arr[i] == x:\n",
    "            continue \n",
    "        else:\n",
    "            arr[w_ind] = arr[i]\n",
    "            w_ind += 1\n",
    "    return arr[0:w_ind]"
   ]
  },
  {
   "cell_type": "code",
   "execution_count": 12,
   "metadata": {},
   "outputs": [
    {
     "data": {
      "text/plain": [
       "[1, 2, 3, 5, 6]"
      ]
     },
     "execution_count": 12,
     "metadata": {},
     "output_type": "execute_result"
    }
   ],
   "source": [
    "remove_all_x([1,2,3,4,4,4,5,6],4)"
   ]
  },
  {
   "cell_type": "markdown",
   "metadata": {},
   "source": [
    "**Variant 2: Remove all but min(2,m), where m is user input, of each element in a sorted array arr**"
   ]
  },
  {
   "cell_type": "code",
   "execution_count": null,
   "metadata": {},
   "outputs": [],
   "source": [
    "### TODO\n",
    "def remove_2m(arr, m):\n",
    "    reps = min(2,m)\n",
    "    \n",
    "    if reps == 1:\n",
    "        return remove_duplicates(arr)\n",
    "    \n",
    "    unique_id = 2\n",
    "    \n",
    "    for i in range(2, len(arr)):\n",
    "        if arr[i-2] == arr[i-1] == arr[i]:"
   ]
  },
  {
   "cell_type": "markdown",
   "metadata": {},
   "source": [
    "#### P4: Buy and Sell a stock once"
   ]
  },
  {
   "cell_type": "code",
   "execution_count": 13,
   "metadata": {},
   "outputs": [],
   "source": [
    "# Demo to show moving difference and profit\n",
    "def get_running_diff(arr):\n",
    "    min_so_far = arr[0]\n",
    "    \n",
    "    for i in range(1,len(arr)):\n",
    "        print(\"PROFIT: \", arr[i]-min_so_far)\n",
    "        min_so_far = min(min_so_far, arr[i])\n",
    "        print(\"Min so far: \", min_so_far)"
   ]
  },
  {
   "cell_type": "code",
   "execution_count": 14,
   "metadata": {},
   "outputs": [
    {
     "name": "stdout",
     "output_type": "stream",
     "text": [
      "PROFIT:  5\n",
      "Min so far:  310\n",
      "PROFIT:  -35\n",
      "Min so far:  275\n",
      "PROFIT:  20\n",
      "Min so far:  275\n",
      "PROFIT:  -15\n",
      "Min so far:  260\n",
      "PROFIT:  10\n",
      "Min so far:  260\n",
      "PROFIT:  30\n",
      "Min so far:  260\n",
      "PROFIT:  -30\n",
      "Min so far:  230\n",
      "PROFIT:  25\n",
      "Min so far:  230\n",
      "PROFIT:  20\n",
      "Min so far:  230\n"
     ]
    }
   ],
   "source": [
    "get_running_diff([310,315,275,295,260,270,290,230,255,250])"
   ]
  },
  {
   "cell_type": "code",
   "execution_count": 26,
   "metadata": {},
   "outputs": [],
   "source": [
    "def buy_sell_once(arr):\n",
    "    min_so_far = arr[0]\n",
    "    \n",
    "    max_profit = arr[1] - arr[0]\n",
    "    \n",
    "    for i in range(1,len(arr)):\n",
    "        \n",
    "        max_profit = max(arr[i] - min_so_far, max_profit)\n",
    "        \n",
    "        min_so_far = min(min_so_far, arr[i])\n",
    "        \n",
    "    return max_profit"
   ]
  },
  {
   "cell_type": "code",
   "execution_count": 27,
   "metadata": {},
   "outputs": [
    {
     "data": {
      "text/plain": [
       "30"
      ]
     },
     "execution_count": 27,
     "metadata": {},
     "output_type": "execute_result"
    }
   ],
   "source": [
    "buy_sell_once([310,315,275,295,260,270,290,230,255,250])"
   ]
  },
  {
   "cell_type": "markdown",
   "metadata": {},
   "source": [
    "**Variant 1: Buy and Sell twice. Find the maximum profit that can be made by buying and selling stocks twice. Second stock must be bought after the first.**"
   ]
  },
  {
   "cell_type": "code",
   "execution_count": null,
   "metadata": {},
   "outputs": [],
   "source": []
  }
 ],
 "metadata": {
  "kernelspec": {
   "display_name": "Python 3",
   "language": "python",
   "name": "python3"
  },
  "language_info": {
   "codemirror_mode": {
    "name": "ipython",
    "version": 3
   },
   "file_extension": ".py",
   "mimetype": "text/x-python",
   "name": "python",
   "nbconvert_exporter": "python",
   "pygments_lexer": "ipython3",
   "version": "3.7.1"
  }
 },
 "nbformat": 4,
 "nbformat_minor": 2
}
