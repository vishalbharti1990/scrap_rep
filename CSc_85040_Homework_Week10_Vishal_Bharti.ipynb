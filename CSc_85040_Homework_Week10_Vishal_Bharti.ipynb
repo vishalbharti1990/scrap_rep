{
 "cells": [
  {
   "cell_type": "markdown",
   "metadata": {},
   "source": [
    "# CSc 85040 - Randomized Algorithms for Matrices\n",
    "------\n",
    "## Homework Week 10\n",
    "## VISHAL BHARTI"
   ]
  },
  {
   "cell_type": "code",
   "execution_count": 1,
   "metadata": {
    "collapsed": true
   },
   "outputs": [],
   "source": [
    "# import the required libraries\n",
    "import numpy as np\n",
    "import random\n",
    "import matplotlib.pyplot as plt\n",
    "from scipy.linalg import hadamard"
   ]
  },
  {
   "cell_type": "code",
   "execution_count": 2,
   "metadata": {
    "collapsed": true
   },
   "outputs": [],
   "source": [
    "# Set m = 16384, n = 100 \n",
    "m, n = 2**14, 100\n",
    "# Set the random number seed\n",
    "np.random.seed(123456)\n",
    "# Generate a random mxn matrix M where row entries are i.i.d\n",
    "M = np.random.randn(m, n)\n",
    "# SVD of the matrix A\n",
    "u, s, vh = np.linalg.svd(M, full_matrices=False)\n",
    "# generate a new eigenmatrix with large eigenvalues \n",
    "S = np.linspace(1,1000000,n)\n",
    "# generate a new matrix A = USV^T\n",
    "A = np.dot(u*S, vh)\n",
    "# generate a gaussian random vector from the std normal distribution\n",
    "b = np.random.normal(0,1, m)"
   ]
  },
  {
   "cell_type": "markdown",
   "metadata": {},
   "source": [
    "### Least squares solution approximation\n",
    "To get the approximate least solution $x_{opt}$ for least square minimization ${\\big|\\big|Ax-b\\big|\\big|_2}$, we run the least square approximation function *lstsq* from the numpy linalg library. This function returns the optimal $x$, $x_{opt}$ and the resulting sum of squared residuals $res_{opt}$"
   ]
  },
  {
   "cell_type": "code",
   "execution_count": 3,
   "metadata": {
    "collapsed": true
   },
   "outputs": [],
   "source": [
    "# get the least squares approximation using all the rows of A\n",
    "x_opt, res, _, _ = np.linalg.lstsq(A, b, rcond=None)\n",
    "res_opt = res.item()"
   ]
  },
  {
   "cell_type": "markdown",
   "metadata": {},
   "source": [
    "### Fast least squares approximation via SRHT projection\n",
    "#### Generating a sampled matrix $A_{sub}$\n",
    "\n",
    "$A_{sub} = P H D A$\n",
    "* $A_{sub}$ is the resulting sampled matrix.\n",
    "* $P$ is a $c\\times M$ sampling matrix that randomly selects 'c' rows from the resulting matrix $H D A_n$.\n",
    "* $H$ is a $M \\times M$ hadamard matrix.\n",
    "* $D$ is a $M\\times M$ diagonal matrix, with diagonal values sampled randomly from $\\{\\pm1\\}$.\n",
    "\n",
    "#### To compute the fast least squares approximation :\n",
    "1. Generate the SRHT sampling matrix $R = PHD$\n",
    "2. Using the sampling matrix generate sampled matrices $A_{sub} = RA$ and $b_{sub} = Rb$\n",
    "3. The least squares approximation solution $\\big|\\big|A_{sub}x_{out} - b_{sub}\\big|\\big|_2$ would give us a fast solution to the least squares approximation $\\big|\\big|Ax_{opt} - b\\big|\\big|_2$\n",
    "\n",
    "#### To compare the results, we calculate the sum of squared residuals $res_{out}$ for $x=x_{out}$ and then compute the ratio $\\frac{res_{out}}{res_{opt}}$.\n",
    "#### The number of sampled rows 'c' is varied from 10-50% of the value of m ($2^{14}$)"
   ]
  },
  {
   "cell_type": "code",
   "execution_count": 4,
   "metadata": {
    "collapsed": true
   },
   "outputs": [],
   "source": [
    "# c varied from 10-50%\n",
    "C_arr = [round(0.1*m), round(0.2*m), round(0.3*m),  round(0.4*m), round(0.5*m)]\n",
    "\n",
    "# array that stores the ratios for each value of c\n",
    "res_arr = []\n",
    "\n",
    "# Go through all values of c and approximate the least squares solution\n",
    "for c in C_arr:\n",
    "    # select c indices randomly\n",
    "    P_idx = random.sample(range(0,m), c)\n",
    "    # generate the hadamard matrix and normalize it\n",
    "    H = 1/np.sqrt(m) * hadamard(m)\n",
    "    # diagonal matrix with +-1 (vector here as numpy broadcast has the same effect)\n",
    "    D = np.random.choice([1,-1], m)\n",
    "\n",
    "    # generate the sampling matrix\n",
    "    R = (H*D)[P_idx,:]\n",
    "    \n",
    "    # sample c rows from A\n",
    "    A_sub = np.matmul(R, A)\n",
    "    # sample c values from b\n",
    "    b_sub = np.matmul(R, b)\n",
    "    \n",
    "    # run the least square solver on the sampled matrices\n",
    "    x_out, _, _, _ = np.linalg.lstsq(A_sub, b_sub, rcond=None)\n",
    "    # compute the squared residuals\n",
    "    res_out = np.sum((A.dot(x_out) - b)**2)\n",
    "    \n",
    "    #save the results to res_arr array\n",
    "    res_arr.append(res_out/res_opt)"
   ]
  },
  {
   "cell_type": "markdown",
   "metadata": {},
   "source": [
    "### Plotting the results"
   ]
  },
  {
   "cell_type": "code",
   "execution_count": 5,
   "metadata": {},
   "outputs": [
    {
     "data": {
      "image/png": "[encoded data removed]",
      "text/plain": [
       "<matplotlib.figure.Figure at 0x206dd789f28>"
      ]
     },
     "metadata": {},
     "output_type": "display_data"
    }
   ],
   "source": [
    "ax = plt.subplot(111)\n",
    "\n",
    "ax.plot(C_arr, res_arr, '-o', alpha=0.70)\n",
    "ax.set_title(\"The ratio of $res_{out}$ and $res_{opt}$ as c is varied\")\n",
    "ax.set_xlabel(\"Number of sampled rows\")\n",
    "ax.set_ylabel(r\"$res_{out}/res_{opt}$\")\n",
    "ax.spines['top'].set_visible(False)\n",
    "ax.spines['right'].set_visible(False)\n",
    "ax.grid(color='grey', linestyle='-', linewidth=0.25, alpha=0.5)\n",
    "plt.show()"
   ]
  }
 ],
 "metadata": {
  "kernelspec": {
   "display_name": "Python 3",
   "language": "python",
   "name": "python3"
  },
  "language_info": {
   "codemirror_mode": {
    "name": "ipython",
    "version": 3
   },
   "file_extension": ".py",
   "mimetype": "text/x-python",
   "name": "python",
   "nbconvert_exporter": "python",
   "pygments_lexer": "ipython3",
   "version": "3.6.2"
  }
 },
 "nbformat": 4,
 "nbformat_minor": 2
}
