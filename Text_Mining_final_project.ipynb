{
 "cells": [
  {
   "cell_type": "markdown",
   "metadata": {},
   "source": [
    "## TEXT MINING C. Sc. 83040 : FINAL PROJECT"
   ]
  },
  {
   "cell_type": "code",
   "execution_count": 1,
   "metadata": {
    "collapsed": true
   },
   "outputs": [],
   "source": [
    "import pandas as pd\n",
    "import numpy as np\n",
    "import nltk\n",
    "from nltk.tokenize import WordPunctTokenizer\n",
    "from nltk.corpus import stopwords\n",
    "from timeit import default_timer as timer\n",
    "import sklearn\n",
    "from sklearn.feature_extraction.text import CountVectorizer\n",
    "from sklearn.feature_extraction.text import TfidfVectorizer\n",
    "from sklearn.preprocessing import normalize\n",
    "from scipy.sparse import csr_matrix\n",
    "from sklearn.naive_bayes import MultinomialNB\n",
    "from sklearn.linear_model import SGDClassifier\n",
    "import warnings\n",
    "from scipy.sparse import vstack\n",
    "warnings.filterwarnings('ignore')"
   ]
  },
  {
   "cell_type": "code",
   "execution_count": 27,
   "metadata": {
    "collapsed": true
   },
   "outputs": [],
   "source": [
    "# read the pre-processed data\n",
    "df_final = pd.read_pickle(\"D:\\\\Text Mining\\\\Final Project\\\\final_df10.pkl\")"
   ]
  },
  {
   "cell_type": "code",
   "execution_count": 28,
   "metadata": {},
   "outputs": [
    {
     "data": {
      "text/html": [
       "<div>\n",
       "<style>\n",
       "    .dataframe thead tr:only-child th {\n",
       "        text-align: right;\n",
       "    }\n",
       "\n",
       "    .dataframe thead th {\n",
       "        text-align: left;\n",
       "    }\n",
       "\n",
       "    .dataframe tbody tr th {\n",
       "        vertical-align: top;\n",
       "    }\n",
       "</style>\n",
       "<table border=\"1\" class=\"dataframe\">\n",
       "  <thead>\n",
       "    <tr style=\"text-align: right;\">\n",
       "      <th></th>\n",
       "      <th>review_id</th>\n",
       "      <th>user_id</th>\n",
       "      <th>business_id</th>\n",
       "      <th>stars</th>\n",
       "      <th>date</th>\n",
       "      <th>text</th>\n",
       "      <th>useful</th>\n",
       "      <th>funny</th>\n",
       "      <th>cool</th>\n",
       "      <th>rating</th>\n",
       "      <th>name</th>\n",
       "      <th>latitude</th>\n",
       "      <th>longitude</th>\n",
       "      <th>city</th>\n",
       "      <th>state</th>\n",
       "    </tr>\n",
       "  </thead>\n",
       "  <tbody>\n",
       "    <tr>\n",
       "      <th>299999</th>\n",
       "      <td>vXMQhG5JtNwSRb6iql7iig</td>\n",
       "      <td>GK07iEy8UllYo113DlNnww</td>\n",
       "      <td>HrG_BxmOMPbqstycmzORzw</td>\n",
       "      <td>1</td>\n",
       "      <td>2013-01-09</td>\n",
       "      <td>They did some transmission work for me that in...</td>\n",
       "      <td>3</td>\n",
       "      <td>2</td>\n",
       "      <td>1</td>\n",
       "      <td>negative</td>\n",
       "      <td>\"Ken's Transmission\"</td>\n",
       "      <td>33.640787</td>\n",
       "      <td>-112.025290</td>\n",
       "      <td>Phoenix</td>\n",
       "      <td>AZ</td>\n",
       "    </tr>\n",
       "    <tr>\n",
       "      <th>254005</th>\n",
       "      <td>W_rauRWpM3ok_diREwEM2A</td>\n",
       "      <td>sjzv-c1k_HGGT9vZbfimWw</td>\n",
       "      <td>HONwpNQ2fmwMTOIZu0VI1A</td>\n",
       "      <td>1</td>\n",
       "      <td>2014-03-15</td>\n",
       "      <td>Poor service when it comes to scheduling. Base...</td>\n",
       "      <td>0</td>\n",
       "      <td>0</td>\n",
       "      <td>0</td>\n",
       "      <td>negative</td>\n",
       "      <td>\"Integrative Family Medicine Limited\"</td>\n",
       "      <td>36.078796</td>\n",
       "      <td>-115.242975</td>\n",
       "      <td>Las Vegas</td>\n",
       "      <td>NV</td>\n",
       "    </tr>\n",
       "    <tr>\n",
       "      <th>110374</th>\n",
       "      <td>h2F3EgNUdcggV8XrW2VQdg</td>\n",
       "      <td>KL-JE4VkGW02LzeSlW3e6Q</td>\n",
       "      <td>NWlNMG_eBIvDjCcHK46eDQ</td>\n",
       "      <td>2</td>\n",
       "      <td>2015-10-14</td>\n",
       "      <td>Went on a Tuesday night, and it was really emp...</td>\n",
       "      <td>2</td>\n",
       "      <td>1</td>\n",
       "      <td>1</td>\n",
       "      <td>negative</td>\n",
       "      <td>\"The Haymaker Restaurant\"</td>\n",
       "      <td>33.640232</td>\n",
       "      <td>-111.979545</td>\n",
       "      <td>Phoenix</td>\n",
       "      <td>AZ</td>\n",
       "    </tr>\n",
       "    <tr>\n",
       "      <th>110373</th>\n",
       "      <td>L3r_OGsUqObVUEyP9uR_Bw</td>\n",
       "      <td>AlYZFOW_Xqi0qXelUrrHVw</td>\n",
       "      <td>NWlNMG_eBIvDjCcHK46eDQ</td>\n",
       "      <td>2</td>\n",
       "      <td>2015-12-13</td>\n",
       "      <td>Meh\\n\\nI can imagine going here for the game, ...</td>\n",
       "      <td>3</td>\n",
       "      <td>2</td>\n",
       "      <td>0</td>\n",
       "      <td>negative</td>\n",
       "      <td>\"The Haymaker Restaurant\"</td>\n",
       "      <td>33.640232</td>\n",
       "      <td>-111.979545</td>\n",
       "      <td>Phoenix</td>\n",
       "      <td>AZ</td>\n",
       "    </tr>\n",
       "    <tr>\n",
       "      <th>110372</th>\n",
       "      <td>u0LWSgqpthGe3R5YlWR6mw</td>\n",
       "      <td>hNY3RdZK7dT43dznSxiA5A</td>\n",
       "      <td>NWlNMG_eBIvDjCcHK46eDQ</td>\n",
       "      <td>2</td>\n",
       "      <td>2016-11-19</td>\n",
       "      <td>Went here last night for dinner. Service was l...</td>\n",
       "      <td>0</td>\n",
       "      <td>0</td>\n",
       "      <td>0</td>\n",
       "      <td>negative</td>\n",
       "      <td>\"The Haymaker Restaurant\"</td>\n",
       "      <td>33.640232</td>\n",
       "      <td>-111.979545</td>\n",
       "      <td>Phoenix</td>\n",
       "      <td>AZ</td>\n",
       "    </tr>\n",
       "  </tbody>\n",
       "</table>\n",
       "</div>"
      ],
      "text/plain": [
       "                     review_id                 user_id  \\\n",
       "299999  vXMQhG5JtNwSRb6iql7iig  GK07iEy8UllYo113DlNnww   \n",
       "254005  W_rauRWpM3ok_diREwEM2A  sjzv-c1k_HGGT9vZbfimWw   \n",
       "110374  h2F3EgNUdcggV8XrW2VQdg  KL-JE4VkGW02LzeSlW3e6Q   \n",
       "110373  L3r_OGsUqObVUEyP9uR_Bw  AlYZFOW_Xqi0qXelUrrHVw   \n",
       "110372  u0LWSgqpthGe3R5YlWR6mw  hNY3RdZK7dT43dznSxiA5A   \n",
       "\n",
       "                   business_id  stars       date  \\\n",
       "299999  HrG_BxmOMPbqstycmzORzw      1 2013-01-09   \n",
       "254005  HONwpNQ2fmwMTOIZu0VI1A      1 2014-03-15   \n",
       "110374  NWlNMG_eBIvDjCcHK46eDQ      2 2015-10-14   \n",
       "110373  NWlNMG_eBIvDjCcHK46eDQ      2 2015-12-13   \n",
       "110372  NWlNMG_eBIvDjCcHK46eDQ      2 2016-11-19   \n",
       "\n",
       "                                                     text  useful  funny  \\\n",
       "299999  They did some transmission work for me that in...       3      2   \n",
       "254005  Poor service when it comes to scheduling. Base...       0      0   \n",
       "110374  Went on a Tuesday night, and it was really emp...       2      1   \n",
       "110373  Meh\\n\\nI can imagine going here for the game, ...       3      2   \n",
       "110372  Went here last night for dinner. Service was l...       0      0   \n",
       "\n",
       "        cool    rating                                   name   latitude  \\\n",
       "299999     1  negative                   \"Ken's Transmission\"  33.640787   \n",
       "254005     0  negative  \"Integrative Family Medicine Limited\"  36.078796   \n",
       "110374     1  negative              \"The Haymaker Restaurant\"  33.640232   \n",
       "110373     0  negative              \"The Haymaker Restaurant\"  33.640232   \n",
       "110372     0  negative              \"The Haymaker Restaurant\"  33.640232   \n",
       "\n",
       "         longitude       city state  \n",
       "299999 -112.025290    Phoenix    AZ  \n",
       "254005 -115.242975  Las Vegas    NV  \n",
       "110374 -111.979545    Phoenix    AZ  \n",
       "110373 -111.979545    Phoenix    AZ  \n",
       "110372 -111.979545    Phoenix    AZ  "
      ]
     },
     "execution_count": 28,
     "metadata": {},
     "output_type": "execute_result"
    }
   ],
   "source": [
    "df_final.head()"
   ]
  },
  {
   "cell_type": "code",
   "execution_count": 36,
   "metadata": {
    "collapsed": true
   },
   "outputs": [],
   "source": [
    "# Function that runs naive bayes algorithm on terms by \n",
    "# considering the top \"MaxFeatures\" high frequency terms\n",
    "def runMNNaiveBayes(MaxFeatures):\n",
    "    count_vect = CountVectorizer(stop_words=\"english\", max_features = MaxFeatures)\n",
    "    tokens = count_vect.fit_transform(df_final[\"text\"].tolist())\n",
    "    labels = df_final[\"rating\"].tolist()\n",
    "\n",
    "    trainX = vstack([tokens[0:70000], tokens[100000:170000], tokens[200000:270000]])\n",
    "    testX = vstack([tokens[70000:100000], tokens[170000:200000], tokens[270000:]])\n",
    "    trainY = labels[0:70000] + labels[100000:170000] + labels[200000:270000] \n",
    "    testY = labels[70000:100000] + labels[170000:200000] + labels[270000:]\n",
    "    \n",
    "    clf = MultinomialNB().fit(trainX, trainY)\n",
    "    predictedY = clf.predict(testX)\n",
    "    \n",
    "    test_y = pd.Series(testY, name='Actual')\n",
    "    pred_y = pd.Series(predictedY, name='Predicted')\n",
    "    df_confusion = pd.crosstab(test_y, pred_y)\n",
    "    print(\"Accuracy: {}\".format(round(sklearn.metrics.accuracy_score(testY, predictedY),3)))\n",
    "    print(\"Macro averaged precision score: {}\".format(round(sklearn.metrics.precision_score(testY, predictedY, average='macro'),3)))\n",
    "    print(\"Macro averaged recall score: {}\".format(round(sklearn.metrics.recall_score(testY, predictedY, average='macro'),3)))\n",
    "    print(\"Macro averaged f-1 score: {}\".format(round(sklearn.metrics.f1_score(testY, predictedY, average='macro'),3)))\n",
    "    return df_confusion"
   ]
  },
  {
   "cell_type": "code",
   "execution_count": 30,
   "metadata": {},
   "outputs": [
    {
     "name": "stdout",
     "output_type": "stream",
     "text": [
      "Accuracy: 0.715\n",
      "Macro averaged precision score: 0.718\n",
      "Macro averaged recall score: 0.715\n",
      "Macro averaged f-1 score: 0.716\n",
      "Finished in : 32.39 seconds\n"
     ]
    }
   ],
   "source": [
    "start_time = timer()\n",
    "runMNNaiveBayes(5000)\n",
    "print(\"Finished in : {} seconds\".format(round(timer()-start_time,2)))"
   ]
  },
  {
   "cell_type": "code",
   "execution_count": 37,
   "metadata": {
    "collapsed": true
   },
   "outputs": [],
   "source": [
    "# Function that runs linear SVM algorithm on terms by \n",
    "# considering the top \"MaxFeatures\" high frequency terms\n",
    "def runLinearSVM(MaxFeatures):\n",
    "    count_vect = CountVectorizer(stop_words=\"english\", max_features = MaxFeatures)\n",
    "    tokens = count_vect.fit_transform(df_final[\"text\"].tolist())\n",
    "    labels = df_final[\"rating\"].tolist()\n",
    "\n",
    "    trainX = vstack([tokens[0:70000], tokens[100000:170000], tokens[200000:270000]])\n",
    "    testX = vstack([tokens[70000:100000], tokens[170000:200000], tokens[270000:]])\n",
    "    trainY = labels[0:70000] + labels[100000:170000] + labels[200000:270000] \n",
    "    testY = labels[70000:100000] + labels[170000:200000] + labels[270000:]\n",
    "\n",
    "    # Train and test a multinomial naive bayes algorithm\n",
    "    clf = SGDClassifier().fit(trainX, trainY)\n",
    "    predictedY = clf.predict(testX)\n",
    "    \n",
    "    test_y = pd.Series(testY, name='Actual')\n",
    "    pred_y = pd.Series(predictedY, name='Predicted')\n",
    "    df_confusion = pd.crosstab(test_y, pred_y)\n",
    "    print(\"Accuracy: {}\".format(round(sklearn.metrics.accuracy_score(testY, predictedY),3)))\n",
    "    print(\"Macro averaged precision score: {}\".format(round(sklearn.metrics.precision_score(testY, predictedY, average='macro'),3)))\n",
    "    print(\"Macro averaged recall score: {}\".format(round(sklearn.metrics.recall_score(testY, predictedY, average='macro'),3)))\n",
    "    print(\"Macro averaged f-1 score: {}\".format(round(sklearn.metrics.f1_score(testY, predictedY, average='macro'),3)))\n",
    "    return df_confusion"
   ]
  },
  {
   "cell_type": "code",
   "execution_count": 32,
   "metadata": {},
   "outputs": [
    {
     "name": "stdout",
     "output_type": "stream",
     "text": [
      "Accuracy: 0.735\n",
      "Macro averaged precision score: 0.731\n",
      "Macro averaged recall score: 0.735\n",
      "Macro averaged f-1 score: 0.727\n",
      "Finished in : 33.97 seconds\n"
     ]
    }
   ],
   "source": [
    "start_time = timer()\n",
    "runLinearSVM(5000)\n",
    "print(\"Finished in : {} seconds\".format(round(timer()-start_time,2)))"
   ]
  },
  {
   "cell_type": "code",
   "execution_count": 38,
   "metadata": {
    "collapsed": true
   },
   "outputs": [],
   "source": [
    "# Function that runs logistic regression algorithm on terms by \n",
    "# considering the top \"MaxFeatures\" high frequency terms\n",
    "def runLogReg(MaxFeatures):\n",
    "    count_vect = CountVectorizer(stop_words=\"english\", max_features = MaxFeatures)\n",
    "    tokens = count_vect.fit_transform(df_final[\"text\"].tolist())\n",
    "    labels = df_final[\"rating\"].tolist()\n",
    "\n",
    "    trainX = vstack([tokens[0:70000], tokens[100000:170000], tokens[200000:270000]])\n",
    "    testX = vstack([tokens[70000:100000], tokens[170000:200000], tokens[270000:]])\n",
    "    trainY = labels[0:70000] + labels[100000:170000] + labels[200000:270000] \n",
    "    testY = labels[70000:100000] + labels[170000:200000] + labels[270000:]\n",
    "\n",
    "    # Train and test a multinomial naive bayes algorithm\n",
    "    clf = SGDClassifier(loss='log').fit(trainX, trainY)\n",
    "    predictedY = clf.predict(testX)\n",
    "    \n",
    "    test_y = pd.Series(testY, name='Actual')\n",
    "    pred_y = pd.Series(predictedY, name='Predicted')\n",
    "    df_confusion = pd.crosstab(test_y, pred_y)\n",
    "    print(\"Accuracy: {}\".format(round(sklearn.metrics.accuracy_score(testY, predictedY),3)))\n",
    "    print(\"Macro averaged precision score: {}\".format(round(sklearn.metrics.precision_score(testY, predictedY, average='macro'),3)))\n",
    "    print(\"Macro averaged recall score: {}\".format(round(sklearn.metrics.recall_score(testY, predictedY, average='macro'),3)))\n",
    "    print(\"Macro averaged f-1 score: {}\".format(round(sklearn.metrics.f1_score(testY, predictedY, average='macro'),3)))\n",
    "    return df_confusion"
   ]
  },
  {
   "cell_type": "code",
   "execution_count": 35,
   "metadata": {},
   "outputs": [
    {
     "name": "stdout",
     "output_type": "stream",
     "text": [
      "Accuracy: 0.752\n",
      "Macro averaged precision score: 0.75\n",
      "Macro averaged recall score: 0.752\n",
      "Macro averaged f-1 score: 0.751\n",
      "Finished in : 34.28 seconds\n"
     ]
    },
    {
     "data": {
      "text/html": [
       "<div>\n",
       "<style>\n",
       "    .dataframe thead tr:only-child th {\n",
       "        text-align: right;\n",
       "    }\n",
       "\n",
       "    .dataframe thead th {\n",
       "        text-align: left;\n",
       "    }\n",
       "\n",
       "    .dataframe tbody tr th {\n",
       "        vertical-align: top;\n",
       "    }\n",
       "</style>\n",
       "<table border=\"1\" class=\"dataframe\">\n",
       "  <thead>\n",
       "    <tr style=\"text-align: right;\">\n",
       "      <th>Predicted</th>\n",
       "      <th>negative</th>\n",
       "      <th>neutral</th>\n",
       "      <th>positive</th>\n",
       "    </tr>\n",
       "    <tr>\n",
       "      <th>Actual</th>\n",
       "      <th></th>\n",
       "      <th></th>\n",
       "      <th></th>\n",
       "    </tr>\n",
       "  </thead>\n",
       "  <tbody>\n",
       "    <tr>\n",
       "      <th>negative</th>\n",
       "      <td>23997</td>\n",
       "      <td>4657</td>\n",
       "      <td>1346</td>\n",
       "    </tr>\n",
       "    <tr>\n",
       "      <th>neutral</th>\n",
       "      <td>5198</td>\n",
       "      <td>19238</td>\n",
       "      <td>5564</td>\n",
       "    </tr>\n",
       "    <tr>\n",
       "      <th>positive</th>\n",
       "      <td>957</td>\n",
       "      <td>4573</td>\n",
       "      <td>24470</td>\n",
       "    </tr>\n",
       "  </tbody>\n",
       "</table>\n",
       "</div>"
      ],
      "text/plain": [
       "Predicted  negative  neutral  positive\n",
       "Actual                                \n",
       "negative      23997     4657      1346\n",
       "neutral        5198    19238      5564\n",
       "positive        957     4573     24470"
      ]
     },
     "execution_count": 35,
     "metadata": {},
     "output_type": "execute_result"
    }
   ],
   "source": [
    "start_time = timer()\n",
    "conMat = runLogReg(5000)\n",
    "print(\"Finished in : {} seconds\".format(round(timer()-start_time,2)))\n",
    "conMat"
   ]
  },
  {
   "cell_type": "code",
   "execution_count": 56,
   "metadata": {},
   "outputs": [
    {
     "name": "stdout",
     "output_type": "stream",
     "text": [
      "Accuracy: 0.696\n",
      "Macro averaged precision score: 0.705\n",
      "Macro averaged recall score: 0.696\n",
      "Macro averaged f-1 score: 0.698\n"
     ]
    },
    {
     "data": {
      "text/html": [
       "<div>\n",
       "<style>\n",
       "    .dataframe thead tr:only-child th {\n",
       "        text-align: right;\n",
       "    }\n",
       "\n",
       "    .dataframe thead th {\n",
       "        text-align: left;\n",
       "    }\n",
       "\n",
       "    .dataframe tbody tr th {\n",
       "        vertical-align: top;\n",
       "    }\n",
       "</style>\n",
       "<table border=\"1\" class=\"dataframe\">\n",
       "  <thead>\n",
       "    <tr style=\"text-align: right;\">\n",
       "      <th>Predicted</th>\n",
       "      <th>negative</th>\n",
       "      <th>neutral</th>\n",
       "      <th>positive</th>\n",
       "    </tr>\n",
       "    <tr>\n",
       "      <th>Actual</th>\n",
       "      <th></th>\n",
       "      <th></th>\n",
       "      <th></th>\n",
       "    </tr>\n",
       "  </thead>\n",
       "  <tbody>\n",
       "    <tr>\n",
       "      <th>negative</th>\n",
       "      <td>10248</td>\n",
       "      <td>4351</td>\n",
       "      <td>401</td>\n",
       "    </tr>\n",
       "    <tr>\n",
       "      <th>neutral</th>\n",
       "      <td>2542</td>\n",
       "      <td>10162</td>\n",
       "      <td>2296</td>\n",
       "    </tr>\n",
       "    <tr>\n",
       "      <th>positive</th>\n",
       "      <td>1348</td>\n",
       "      <td>2759</td>\n",
       "      <td>10893</td>\n",
       "    </tr>\n",
       "  </tbody>\n",
       "</table>\n",
       "</div>"
      ],
      "text/plain": [
       "Predicted  negative  neutral  positive\n",
       "Actual                                \n",
       "negative      10248     4351       401\n",
       "neutral        2542    10162      2296\n",
       "positive       1348     2759     10893"
      ]
     },
     "execution_count": 56,
     "metadata": {},
     "output_type": "execute_result"
    }
   ],
   "source": [
    "test_y = pd.Series(testY, name='Actual')\n",
    "pred_y = pd.Series(predictedY, name='Predicted')\n",
    "df_confusion = pd.crosstab(test_y, pred_y)\n",
    "print(\"Accuracy: {}\".format(round(sklearn.metrics.accuracy_score(testY, predictedY),3)))\n",
    "print(\"Macro averaged precision score: {}\".format(round(sklearn.metrics.precision_score(testY, predictedY, average='macro'),3)))\n",
    "print(\"Macro averaged recall score: {}\".format(round(sklearn.metrics.recall_score(testY, predictedY, average='macro'),3)))\n",
    "print(\"Macro averaged f-1 score: {}\".format(round(sklearn.metrics.f1_score(testY, predictedY, average='macro'),3)))\n",
    "df_confusion"
   ]
  },
  {
   "cell_type": "code",
   "execution_count": 49,
   "metadata": {
    "collapsed": true
   },
   "outputs": [],
   "source": [
    "trainX = vstack([tokens[0:35000], tokens[50000:85000], tokens[100000:135000]])"
   ]
  },
  {
   "cell_type": "code",
   "execution_count": 16,
   "metadata": {
    "collapsed": true
   },
   "outputs": [],
   "source": [
    "df_buss = pd.read_csv('D:\\\\Text Mining\\\\Final Project\\\\yelp_business.csv')"
   ]
  },
  {
   "cell_type": "code",
   "execution_count": 19,
   "metadata": {},
   "outputs": [
    {
     "data": {
      "text/plain": [
       "(<1x500 sparse matrix of type '<class 'numpy.int64'>'\n",
       " \twith 12 stored elements in Compressed Sparse Row format>, 'positive')"
      ]
     },
     "execution_count": 19,
     "metadata": {},
     "output_type": "execute_result"
    }
   ],
   "source": [
    "tokens[0]"
   ]
  },
  {
   "cell_type": "code",
   "execution_count": 18,
   "metadata": {
    "collapsed": true
   },
   "outputs": [],
   "source": [
    "df_buss = df_buss[['business_id', 'name', 'latitude', 'longitude', 'city', 'state']]"
   ]
  },
  {
   "cell_type": "code",
   "execution_count": 19,
   "metadata": {},
   "outputs": [
    {
     "data": {
      "text/html": [
       "<div>\n",
       "<style>\n",
       "    .dataframe thead tr:only-child th {\n",
       "        text-align: right;\n",
       "    }\n",
       "\n",
       "    .dataframe thead th {\n",
       "        text-align: left;\n",
       "    }\n",
       "\n",
       "    .dataframe tbody tr th {\n",
       "        vertical-align: top;\n",
       "    }\n",
       "</style>\n",
       "<table border=\"1\" class=\"dataframe\">\n",
       "  <thead>\n",
       "    <tr style=\"text-align: right;\">\n",
       "      <th></th>\n",
       "      <th>business_id</th>\n",
       "      <th>name</th>\n",
       "      <th>latitude</th>\n",
       "      <th>longitude</th>\n",
       "      <th>city</th>\n",
       "      <th>state</th>\n",
       "    </tr>\n",
       "  </thead>\n",
       "  <tbody>\n",
       "    <tr>\n",
       "      <th>0</th>\n",
       "      <td>FYWN1wneV18bWNgQjJ2GNg</td>\n",
       "      <td>\"Dental by Design\"</td>\n",
       "      <td>33.330690</td>\n",
       "      <td>-111.978599</td>\n",
       "      <td>Ahwatukee</td>\n",
       "      <td>AZ</td>\n",
       "    </tr>\n",
       "    <tr>\n",
       "      <th>1</th>\n",
       "      <td>He-G7vWjzVUysIKrfNbPUQ</td>\n",
       "      <td>\"Stephen Szabo Salon\"</td>\n",
       "      <td>40.291685</td>\n",
       "      <td>-80.104900</td>\n",
       "      <td>McMurray</td>\n",
       "      <td>PA</td>\n",
       "    </tr>\n",
       "    <tr>\n",
       "      <th>2</th>\n",
       "      <td>KQPW8lFf1y5BT2MxiSZ3QA</td>\n",
       "      <td>\"Western Motor Vehicle\"</td>\n",
       "      <td>33.524903</td>\n",
       "      <td>-112.115310</td>\n",
       "      <td>Phoenix</td>\n",
       "      <td>AZ</td>\n",
       "    </tr>\n",
       "    <tr>\n",
       "      <th>3</th>\n",
       "      <td>8DShNS-LuFqpEWIp0HxijA</td>\n",
       "      <td>\"Sports Authority\"</td>\n",
       "      <td>33.383147</td>\n",
       "      <td>-111.964725</td>\n",
       "      <td>Tempe</td>\n",
       "      <td>AZ</td>\n",
       "    </tr>\n",
       "    <tr>\n",
       "      <th>4</th>\n",
       "      <td>PfOCPjBrlQAnz__NXj9h_w</td>\n",
       "      <td>\"Brick House Tavern + Tap\"</td>\n",
       "      <td>41.119535</td>\n",
       "      <td>-81.475690</td>\n",
       "      <td>Cuyahoga Falls</td>\n",
       "      <td>OH</td>\n",
       "    </tr>\n",
       "  </tbody>\n",
       "</table>\n",
       "</div>"
      ],
      "text/plain": [
       "              business_id                        name   latitude   longitude  \\\n",
       "0  FYWN1wneV18bWNgQjJ2GNg          \"Dental by Design\"  33.330690 -111.978599   \n",
       "1  He-G7vWjzVUysIKrfNbPUQ       \"Stephen Szabo Salon\"  40.291685  -80.104900   \n",
       "2  KQPW8lFf1y5BT2MxiSZ3QA     \"Western Motor Vehicle\"  33.524903 -112.115310   \n",
       "3  8DShNS-LuFqpEWIp0HxijA          \"Sports Authority\"  33.383147 -111.964725   \n",
       "4  PfOCPjBrlQAnz__NXj9h_w  \"Brick House Tavern + Tap\"  41.119535  -81.475690   \n",
       "\n",
       "             city state  \n",
       "0       Ahwatukee    AZ  \n",
       "1        McMurray    PA  \n",
       "2         Phoenix    AZ  \n",
       "3           Tempe    AZ  \n",
       "4  Cuyahoga Falls    OH  "
      ]
     },
     "execution_count": 19,
     "metadata": {},
     "output_type": "execute_result"
    }
   ],
   "source": [
    "df_buss.head()"
   ]
  },
  {
   "cell_type": "code",
   "execution_count": 20,
   "metadata": {},
   "outputs": [
    {
     "data": {
      "text/html": [
       "<div>\n",
       "<style>\n",
       "    .dataframe thead tr:only-child th {\n",
       "        text-align: right;\n",
       "    }\n",
       "\n",
       "    .dataframe thead th {\n",
       "        text-align: left;\n",
       "    }\n",
       "\n",
       "    .dataframe tbody tr th {\n",
       "        vertical-align: top;\n",
       "    }\n",
       "</style>\n",
       "<table border=\"1\" class=\"dataframe\">\n",
       "  <thead>\n",
       "    <tr style=\"text-align: right;\">\n",
       "      <th></th>\n",
       "      <th>review_id</th>\n",
       "      <th>user_id</th>\n",
       "      <th>business_id</th>\n",
       "      <th>stars</th>\n",
       "      <th>date</th>\n",
       "      <th>text</th>\n",
       "      <th>useful</th>\n",
       "      <th>funny</th>\n",
       "      <th>cool</th>\n",
       "      <th>rating</th>\n",
       "    </tr>\n",
       "  </thead>\n",
       "  <tbody>\n",
       "    <tr>\n",
       "      <th>8</th>\n",
       "      <td>w41ZS9shepfO3uEyhXEWuQ</td>\n",
       "      <td>u0LXt3Uea_GidxRW1xcsfg</td>\n",
       "      <td>5r6-G9C4YLbC7Ziz57l3rQ</td>\n",
       "      <td>3</td>\n",
       "      <td>2013-02-09</td>\n",
       "      <td>Not bad!! Love that there is a gluten-free, ve...</td>\n",
       "      <td>1</td>\n",
       "      <td>0</td>\n",
       "      <td>0</td>\n",
       "      <td>neutral</td>\n",
       "    </tr>\n",
       "    <tr>\n",
       "      <th>11</th>\n",
       "      <td>PdZ_uFjbbkjtm3SCY_KrZw</td>\n",
       "      <td>u0LXt3Uea_GidxRW1xcsfg</td>\n",
       "      <td>XWTPNfskXoUL-Lf32wSk0Q</td>\n",
       "      <td>3</td>\n",
       "      <td>2011-09-28</td>\n",
       "      <td>Server was a little rude.\\n\\nOrdered the calam...</td>\n",
       "      <td>5</td>\n",
       "      <td>0</td>\n",
       "      <td>1</td>\n",
       "      <td>neutral</td>\n",
       "    </tr>\n",
       "    <tr>\n",
       "      <th>13</th>\n",
       "      <td>lsoSqIrrDbQvWpMvsSj2xw</td>\n",
       "      <td>u0LXt3Uea_GidxRW1xcsfg</td>\n",
       "      <td>RtUvSWO_UZ8V3Wpj0n077w</td>\n",
       "      <td>3</td>\n",
       "      <td>2012-12-03</td>\n",
       "      <td>Wanted to check out this place due to all the ...</td>\n",
       "      <td>2</td>\n",
       "      <td>1</td>\n",
       "      <td>1</td>\n",
       "      <td>neutral</td>\n",
       "    </tr>\n",
       "    <tr>\n",
       "      <th>17</th>\n",
       "      <td>xdu8nXrbNKeaywCX79KZSw</td>\n",
       "      <td>u0LXt3Uea_GidxRW1xcsfg</td>\n",
       "      <td>PFPUMF38-lraKzLcTiz5gQ</td>\n",
       "      <td>3</td>\n",
       "      <td>2010-09-15</td>\n",
       "      <td>Came here with my girlfriends one Sunday after...</td>\n",
       "      <td>2</td>\n",
       "      <td>0</td>\n",
       "      <td>0</td>\n",
       "      <td>neutral</td>\n",
       "    </tr>\n",
       "    <tr>\n",
       "      <th>18</th>\n",
       "      <td>K7o5jDInfmX3cY5oH6ATNw</td>\n",
       "      <td>u0LXt3Uea_GidxRW1xcsfg</td>\n",
       "      <td>oWTn2IzrprsRkPfULtjZtQ</td>\n",
       "      <td>3</td>\n",
       "      <td>2012-09-23</td>\n",
       "      <td>Came here for a burger as one of my friends sa...</td>\n",
       "      <td>4</td>\n",
       "      <td>0</td>\n",
       "      <td>0</td>\n",
       "      <td>neutral</td>\n",
       "    </tr>\n",
       "  </tbody>\n",
       "</table>\n",
       "</div>"
      ],
      "text/plain": [
       "                 review_id                 user_id             business_id  \\\n",
       "8   w41ZS9shepfO3uEyhXEWuQ  u0LXt3Uea_GidxRW1xcsfg  5r6-G9C4YLbC7Ziz57l3rQ   \n",
       "11  PdZ_uFjbbkjtm3SCY_KrZw  u0LXt3Uea_GidxRW1xcsfg  XWTPNfskXoUL-Lf32wSk0Q   \n",
       "13  lsoSqIrrDbQvWpMvsSj2xw  u0LXt3Uea_GidxRW1xcsfg  RtUvSWO_UZ8V3Wpj0n077w   \n",
       "17  xdu8nXrbNKeaywCX79KZSw  u0LXt3Uea_GidxRW1xcsfg  PFPUMF38-lraKzLcTiz5gQ   \n",
       "18  K7o5jDInfmX3cY5oH6ATNw  u0LXt3Uea_GidxRW1xcsfg  oWTn2IzrprsRkPfULtjZtQ   \n",
       "\n",
       "    stars        date                                               text  \\\n",
       "8       3  2013-02-09  Not bad!! Love that there is a gluten-free, ve...   \n",
       "11      3  2011-09-28  Server was a little rude.\\n\\nOrdered the calam...   \n",
       "13      3  2012-12-03  Wanted to check out this place due to all the ...   \n",
       "17      3  2010-09-15  Came here with my girlfriends one Sunday after...   \n",
       "18      3  2012-09-23  Came here for a burger as one of my friends sa...   \n",
       "\n",
       "    useful  funny  cool   rating  \n",
       "8        1      0     0  neutral  \n",
       "11       5      0     1  neutral  \n",
       "13       2      1     1  neutral  \n",
       "17       2      0     0  neutral  \n",
       "18       4      0     0  neutral  "
      ]
     },
     "execution_count": 20,
     "metadata": {},
     "output_type": "execute_result"
    }
   ],
   "source": [
    "df_neut.head()"
   ]
  },
  {
   "cell_type": "code",
   "execution_count": 21,
   "metadata": {
    "collapsed": true
   },
   "outputs": [],
   "source": [
    "df_neutN = pd.merge(df_neut, df_buss, left_on = \"business_id\", right_on=\"business_id\")"
   ]
  },
  {
   "cell_type": "code",
   "execution_count": 24,
   "metadata": {},
   "outputs": [
    {
     "data": {
      "text/plain": [
       "(615481, 15)"
      ]
     },
     "execution_count": 24,
     "metadata": {},
     "output_type": "execute_result"
    }
   ],
   "source": [
    "df_neutN.shape"
   ]
  },
  {
   "cell_type": "code",
   "execution_count": 41,
   "metadata": {
    "collapsed": true
   },
   "outputs": [],
   "source": [
    "df_posN = pd.merge(df_pos, df_buss, left_on = \"business_id\", right_on=\"business_id\")"
   ]
  },
  {
   "cell_type": "code",
   "execution_count": 27,
   "metadata": {},
   "outputs": [
    {
     "data": {
      "text/plain": [
       "Index            12000000\n",
       "review_id       118500000\n",
       "user_id         118500000\n",
       "business_id     118500000\n",
       "stars            12000000\n",
       "date             12000000\n",
       "text           1098617679\n",
       "useful           12000000\n",
       "funny            12000000\n",
       "cool             12000000\n",
       "rating            1500274\n",
       "dtype: int64"
      ]
     },
     "execution_count": 27,
     "metadata": {},
     "output_type": "execute_result"
    }
   ],
   "source": [
    "df_final.memory_usage(deep=True)"
   ]
  },
  {
   "cell_type": "code",
   "execution_count": 42,
   "metadata": {
    "collapsed": true
   },
   "outputs": [],
   "source": [
    "df_posN[\"date\"] = pd.to_datetime(df_posN[\"date\"])"
   ]
  },
  {
   "cell_type": "code",
   "execution_count": 43,
   "metadata": {
    "collapsed": true
   },
   "outputs": [],
   "source": [
    "df_posN[\"city\"] = df_posN.city.astype('category')"
   ]
  },
  {
   "cell_type": "code",
   "execution_count": 44,
   "metadata": {},
   "outputs": [
    {
     "data": {
      "text/plain": [
       "0    Montréal\n",
       "1    Montréal\n",
       "2    Montréal\n",
       "3    Montréal\n",
       "4    Montréal\n",
       "Name: city, dtype: category\n",
       "Categories (1071, object): [110 Las Vegas, AGINCOURT, Aberdour, Aberlady, ..., peoria, toronto, Île des Soeurs, Île-des-Soeurs]"
      ]
     },
     "execution_count": 44,
     "metadata": {},
     "output_type": "execute_result"
    }
   ],
   "source": [
    "df_posN[\"city\"].head()"
   ]
  },
  {
   "cell_type": "code",
   "execution_count": 50,
   "metadata": {},
   "outputs": [
    {
     "data": {
      "text/plain": [
       "array(['AZ', 'PA', 'OH', 'BW', 'NV', 'ON', 'NC', 'WI', 'SC', 'QC', 'IL',\n",
       "       'MLN', 'EDH', 'FIF', 'CHE', 'CO', 'NYK', 'NE', 'HLD', 'WLN', 'ABE',\n",
       "       'WA', 'SCB', 'KHL', 'ESX', 'CMA', 'FAL', 'ELN', 'NY', 'PKN', 'ST',\n",
       "       '01', 'CA', 'NLK', 'GLG', 'C', 'VS', 'IN', 'XGL', 'AL', 'STG', 'VT',\n",
       "       'CS', '30', 'AR', 'SL', 'NI', 'BY', 'AK', 'FLN', nan, 'FL', 'MN',\n",
       "       '6', 'NTH', 'MT', 'B', 'GA', 'VA', 'DE', 'AB', 'HU', 'KY', '3',\n",
       "       'TAM', 'ZET', 'RCC', 'WHT'], dtype=object)"
      ]
     },
     "execution_count": 50,
     "metadata": {},
     "output_type": "execute_result"
    }
   ],
   "source": [
    "pd.unique(df_buss[\"state\"])"
   ]
  },
  {
   "cell_type": "code",
   "execution_count": 16,
   "metadata": {},
   "outputs": [
    {
     "data": {
      "text/html": [
       "<div class='tableauPlaceholder' id='viz1525575724929' style='position: relative'><noscript><a href='#'><img alt=' ' src='https:&#47;&#47;public.tableau.com&#47;static&#47;images&#47;31&#47;311workbook&#47;CompDash&#47;1_rss.png' style='border: none' /></a></noscript><object class='tableauViz'  style='display:none;'><param name='host_url' value='https%3A%2F%2Fpublic.tableau.com%2F' /> <param name='embed_code_version' value='3' /> <param name='site_root' value='' /><param name='name' value='311workbook&#47;CompDash' /><param name='tabs' value='yes' /><param name='toolbar' value='yes' /><param name='static_image' value='https:&#47;&#47;public.tableau.com&#47;static&#47;images&#47;31&#47;311workbook&#47;CompDash&#47;1.png' /> <param name='animate_transition' value='yes' /><param name='display_static_image' value='yes' /><param name='display_spinner' value='yes' /><param name='display_overlay' value='yes' /><param name='display_count' value='yes' /></object></div>                <script type='text/javascript'>                    var divElement = document.getElementById('viz1525575724929');                    var vizElement = divElement.getElementsByTagName('object')[0];                    vizElement.style.width='100%';vizElement.style.height=(divElement.offsetWidth*0.75)+'px';                    var scriptElement = document.createElement('script');                    scriptElement.src = 'https://public.tableau.com/javascripts/api/viz_v1.js';                    vizElement.parentNode.insertBefore(scriptElement, vizElement);                </script>"
      ],
      "text/plain": [
       "<IPython.core.display.HTML object>"
      ]
     },
     "metadata": {},
     "output_type": "display_data"
    }
   ],
   "source": [
    "%%HTML\n",
    "<div class='tableauPlaceholder' id='viz1525575724929' style='position: relative'><noscript><a href='#'><img alt=' ' src='https:&#47;&#47;public.tableau.com&#47;static&#47;images&#47;31&#47;311workbook&#47;CompDash&#47;1_rss.png' style='border: none' /></a></noscript><object class='tableauViz'  style='display:none;'><param name='host_url' value='https%3A%2F%2Fpublic.tableau.com%2F' /> <param name='embed_code_version' value='3' /> <param name='site_root' value='' /><param name='name' value='311workbook&#47;CompDash' /><param name='tabs' value='yes' /><param name='toolbar' value='yes' /><param name='static_image' value='https:&#47;&#47;public.tableau.com&#47;static&#47;images&#47;31&#47;311workbook&#47;CompDash&#47;1.png' /> <param name='animate_transition' value='yes' /><param name='display_static_image' value='yes' /><param name='display_spinner' value='yes' /><param name='display_overlay' value='yes' /><param name='display_count' value='yes' /></object></div>                <script type='text/javascript'>                    var divElement = document.getElementById('viz1525575724929');                    var vizElement = divElement.getElementsByTagName('object')[0];                    vizElement.style.width='100%';vizElement.style.height=(divElement.offsetWidth*0.75)+'px';                    var scriptElement = document.createElement('script');                    scriptElement.src = 'https://public.tableau.com/javascripts/api/viz_v1.js';                    vizElement.parentNode.insertBefore(scriptElement, vizElement);                </script>"
   ]
  },
  {
   "cell_type": "code",
   "execution_count": 20,
   "metadata": {
    "collapsed": true
   },
   "outputs": [],
   "source": []
  }
 ],
 "metadata": {
  "kernelspec": {
   "display_name": "Python 3",
   "language": "python",
   "name": "python3"
  },
  "language_info": {
   "codemirror_mode": {
    "name": "ipython",
    "version": 3
   },
   "file_extension": ".py",
   "mimetype": "text/x-python",
   "name": "python",
   "nbconvert_exporter": "python",
   "pygments_lexer": "ipython3",
   "version": "3.6.2"
  }
 },
 "nbformat": 4,
 "nbformat_minor": 2
}
